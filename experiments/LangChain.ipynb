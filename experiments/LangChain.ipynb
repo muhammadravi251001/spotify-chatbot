{
 "cells": [
  {
   "cell_type": "code",
   "execution_count": 1,
   "id": "5b229ea3-f526-414a-be4a-02bc167b3eca",
   "metadata": {},
   "outputs": [
    {
     "name": "stdout",
     "output_type": "stream",
     "text": [
      "\u001b[33mWARNING: Running pip as the 'root' user can result in broken permissions and conflicting behaviour with the system package manager. It is recommended to use a virtual environment instead: https://pip.pypa.io/warnings/venv\u001b[0m\n",
      "\u001b[33mWARNING: You are using pip version 21.3.1; however, version 24.1 is available.\n",
      "You should consider upgrading via the '/usr/bin/python -m pip install --upgrade pip' command.\u001b[0m\n"
     ]
    }
   ],
   "source": [
    "!pip install -q langchain==0.0.150 pypdf pandas matplotlib tiktoken textract transformers openai faiss-cpu"
   ]
  },
  {
   "cell_type": "code",
   "execution_count": 11,
   "id": "f78ba1b4-eed1-4807-ba77-6df7fe3d304b",
   "metadata": {},
   "outputs": [],
   "source": [
    "import os\n",
    "os.environ[\"TOKENIZERS_PARALLELISM\"] = \"false\"\n",
    "os.environ['TRANSFORMERS_NO_ADVISORY_WARNINGS'] = 'true'"
   ]
  },
  {
   "cell_type": "code",
   "execution_count": 12,
   "id": "37ca0d43-c6d1-486b-b5f9-b08c20243151",
   "metadata": {},
   "outputs": [
    {
     "name": "stdout",
     "output_type": "stream",
     "text": [
      "Sun Jun 23 10:17:26 2024       \n",
      "+-----------------------------------------------------------------------------------------+\n",
      "| NVIDIA-SMI 550.54.15              Driver Version: 550.54.15      CUDA Version: 12.4     |\n",
      "|-----------------------------------------+------------------------+----------------------+\n",
      "| GPU  Name                 Persistence-M | Bus-Id          Disp.A | Volatile Uncorr. ECC |\n",
      "| Fan  Temp   Perf          Pwr:Usage/Cap |           Memory-Usage | GPU-Util  Compute M. |\n",
      "|                                         |                        |               MIG M. |\n",
      "|=========================================+========================+======================|\n",
      "|   0  Tesla V100-SXM2-32GB           On  |   00000000:06:00.0 Off |                    0 |\n",
      "| N/A   46C    P0            116W /  300W |   32365MiB /  32768MiB |     39%      Default |\n",
      "|                                         |                        |                  N/A |\n",
      "+-----------------------------------------+------------------------+----------------------+\n",
      "|   1  Tesla V100-SXM2-32GB           On  |   00000000:07:00.0 Off |                    0 |\n",
      "| N/A   51C    P0            137W /  300W |   26325MiB /  32768MiB |     56%      Default |\n",
      "|                                         |                        |                  N/A |\n",
      "+-----------------------------------------+------------------------+----------------------+\n",
      "|   2  Tesla V100-SXM2-32GB           On  |   00000000:0A:00.0 Off |                    0 |\n",
      "| N/A   58C    P0            184W /  300W |   30333MiB /  32768MiB |     78%      Default |\n",
      "|                                         |                        |                  N/A |\n",
      "+-----------------------------------------+------------------------+----------------------+\n",
      "|   3  Tesla V100-SXM2-32GB           On  |   00000000:0B:00.0 Off |                    0 |\n",
      "| N/A   50C    P0            132W /  300W |   32317MiB /  32768MiB |     54%      Default |\n",
      "|                                         |                        |                  N/A |\n",
      "+-----------------------------------------+------------------------+----------------------+\n",
      "|   4  Tesla V100-SXM2-32GB           On  |   00000000:85:00.0 Off |                    0 |\n",
      "| N/A   53C    P0            156W /  300W |   28371MiB /  32768MiB |     56%      Default |\n",
      "|                                         |                        |                  N/A |\n",
      "+-----------------------------------------+------------------------+----------------------+\n",
      "|   5  Tesla V100-SXM2-32GB           On  |   00000000:86:00.0 Off |                    0 |\n",
      "| N/A   56C    P0            166W /  300W |   25249MiB /  32768MiB |     72%      Default |\n",
      "|                                         |                        |                  N/A |\n",
      "+-----------------------------------------+------------------------+----------------------+\n",
      "|   6  Tesla V100-SXM2-32GB           On  |   00000000:89:00.0 Off |                    0 |\n",
      "| N/A   51C    P0            113W /  300W |   32455MiB /  32768MiB |     35%      Default |\n",
      "|                                         |                        |                  N/A |\n",
      "+-----------------------------------------+------------------------+----------------------+\n",
      "|   7  Tesla V100-SXM2-32GB           On  |   00000000:8A:00.0 Off |                    0 |\n",
      "| N/A   41C    P0             88W /  300W |   31477MiB /  32768MiB |     22%      Default |\n",
      "|                                         |                        |                  N/A |\n",
      "+-----------------------------------------+------------------------+----------------------+\n",
      "                                                                                         \n",
      "+-----------------------------------------------------------------------------------------+\n",
      "| Processes:                                                                              |\n",
      "|  GPU   GI   CI        PID   Type   Process name                              GPU Memory |\n",
      "|        ID   ID                                                               Usage      |\n",
      "|=========================================================================================|\n",
      "+-----------------------------------------------------------------------------------------+\n"
     ]
    }
   ],
   "source": [
    "!nvidia-smi"
   ]
  },
  {
   "cell_type": "code",
   "execution_count": 31,
   "id": "c9f4c241-b48e-425d-8186-294c9fd05bfd",
   "metadata": {},
   "outputs": [],
   "source": [
    "import torch\n",
    "\n",
    "os.environ['CUDA_VISIBLE_DEVICES'] = '5'\n",
    "# device = torch.device(\"cuda\" if torch.cuda.is_available() else \"cpu\")\n",
    "device = \"cpu\""
   ]
  },
  {
   "cell_type": "code",
   "execution_count": 19,
   "id": "ea4ce0c3-e074-4120-aa57-e15c8db58502",
   "metadata": {},
   "outputs": [],
   "source": [
    "import os\n",
    "import re\n",
    "import pandas as pd\n",
    "import matplotlib.pyplot as plt\n",
    "from transformers import GPT2TokenizerFast\n",
    "from langchain.text_splitter import RecursiveCharacterTextSplitter\n",
    "from langchain.embeddings import OpenAIEmbeddings\n",
    "from langchain.vectorstores import FAISS\n",
    "from langchain.chains.question_answering import load_qa_chain\n",
    "from langchain.llms import OpenAI\n",
    "from langchain.chains import ConversationalRetrievalChain"
   ]
  },
  {
   "cell_type": "code",
   "execution_count": 17,
   "id": "dde5dd40-de86-46d3-9838-628c371b1bf6",
   "metadata": {},
   "outputs": [],
   "source": [
    "df = pd.read_csv(\"SPOTIFY_REVIEWS.csv\")"
   ]
  },
  {
   "cell_type": "code",
   "execution_count": 20,
   "id": "2b151828-d284-4b7e-ba58-66a89a964b57",
   "metadata": {},
   "outputs": [],
   "source": [
    "def preprocess_text(text):\n",
    "    if pd.isna(text):\n",
    "        return \"\"\n",
    "    text = re.sub(r'\\s+', ' ', text)\n",
    "    text = re.sub(r'[^a-zA-Z0-9\\s]', '', text)\n",
    "    return text.lower()\n",
    "\n",
    "df['cleaned_review_text'] = df['review_text'].astype(str).apply(preprocess_text)"
   ]
  },
  {
   "cell_type": "code",
   "execution_count": 34,
   "id": "656d226f-334f-4e57-a64a-5654c79d9844",
   "metadata": {},
   "outputs": [
    {
     "data": {
      "text/html": [
       "<div>\n",
       "<style scoped>\n",
       "    .dataframe tbody tr th:only-of-type {\n",
       "        vertical-align: middle;\n",
       "    }\n",
       "\n",
       "    .dataframe tbody tr th {\n",
       "        vertical-align: top;\n",
       "    }\n",
       "\n",
       "    .dataframe thead th {\n",
       "        text-align: right;\n",
       "    }\n",
       "</style>\n",
       "<table border=\"1\" class=\"dataframe\">\n",
       "  <thead>\n",
       "    <tr style=\"text-align: right;\">\n",
       "      <th></th>\n",
       "      <th>Unnamed: 0</th>\n",
       "      <th>review_id</th>\n",
       "      <th>pseudo_author_id</th>\n",
       "      <th>author_name</th>\n",
       "      <th>review_text</th>\n",
       "      <th>review_rating</th>\n",
       "      <th>review_likes</th>\n",
       "      <th>author_app_version</th>\n",
       "      <th>review_timestamp</th>\n",
       "      <th>cleaned_review_text</th>\n",
       "    </tr>\n",
       "  </thead>\n",
       "  <tbody>\n",
       "    <tr>\n",
       "      <th>0</th>\n",
       "      <td>0</td>\n",
       "      <td>14a011a8-7544-47b4-8480-c502af0ac26f</td>\n",
       "      <td>152618553977019693742</td>\n",
       "      <td>A Google user</td>\n",
       "      <td>Use it every day</td>\n",
       "      <td>5</td>\n",
       "      <td>1</td>\n",
       "      <td>1.1.0.91</td>\n",
       "      <td>2014-05-27 14:21:48</td>\n",
       "      <td>use it every day</td>\n",
       "    </tr>\n",
       "    <tr>\n",
       "      <th>1</th>\n",
       "      <td>1</td>\n",
       "      <td>bfa8876b-470e-4640-83a7-77427f7f37e8</td>\n",
       "      <td>234382942865437071667</td>\n",
       "      <td>A Google user</td>\n",
       "      <td>I enjoy the awesome UI of this app, and it has...</td>\n",
       "      <td>5</td>\n",
       "      <td>4</td>\n",
       "      <td>1.1.0.91</td>\n",
       "      <td>2014-05-27 14:36:02</td>\n",
       "      <td>i enjoy the awesome ui of this app and it has ...</td>\n",
       "    </tr>\n",
       "    <tr>\n",
       "      <th>2</th>\n",
       "      <td>2</td>\n",
       "      <td>70e8252f-058a-47d9-b066-df9e1571c970</td>\n",
       "      <td>174473604608358796368</td>\n",
       "      <td>A Google user</td>\n",
       "      <td>Love it! Especially the new design!</td>\n",
       "      <td>5</td>\n",
       "      <td>2</td>\n",
       "      <td>1.1.0.91</td>\n",
       "      <td>2014-05-27 14:40:01</td>\n",
       "      <td>love it especially the new design</td>\n",
       "    </tr>\n",
       "    <tr>\n",
       "      <th>3</th>\n",
       "      <td>3</td>\n",
       "      <td>672a155a-e81e-4d28-bdeb-a74c031bc072</td>\n",
       "      <td>286593453219054880269</td>\n",
       "      <td>A Google user</td>\n",
       "      <td>Awesome UI, best music app out there!</td>\n",
       "      <td>5</td>\n",
       "      <td>1</td>\n",
       "      <td>1.1.0.91</td>\n",
       "      <td>2014-05-27 15:17:20</td>\n",
       "      <td>awesome ui best music app out there</td>\n",
       "    </tr>\n",
       "    <tr>\n",
       "      <th>4</th>\n",
       "      <td>4</td>\n",
       "      <td>bbc1bf95-ed36-41a1-8b98-0f2e314caea5</td>\n",
       "      <td>167276875678680630145</td>\n",
       "      <td>A Google user</td>\n",
       "      <td>As a professional Android developer I'm glad t...</td>\n",
       "      <td>5</td>\n",
       "      <td>10</td>\n",
       "      <td>1.1.0.91</td>\n",
       "      <td>2014-05-27 15:26:48</td>\n",
       "      <td>as a professional android developer im glad to...</td>\n",
       "    </tr>\n",
       "    <tr>\n",
       "      <th>...</th>\n",
       "      <td>...</td>\n",
       "      <td>...</td>\n",
       "      <td>...</td>\n",
       "      <td>...</td>\n",
       "      <td>...</td>\n",
       "      <td>...</td>\n",
       "      <td>...</td>\n",
       "      <td>...</td>\n",
       "      <td>...</td>\n",
       "      <td>...</td>\n",
       "    </tr>\n",
       "    <tr>\n",
       "      <th>995</th>\n",
       "      <td>995</td>\n",
       "      <td>12c0d80a-84ac-49d5-a143-bb6efcd1d139</td>\n",
       "      <td>996404509657845998069</td>\n",
       "      <td>A Google user</td>\n",
       "      <td>what a frickin joke. subscription isnt recogni...</td>\n",
       "      <td>1</td>\n",
       "      <td>0</td>\n",
       "      <td>1.1.0.113</td>\n",
       "      <td>2014-05-29 03:40:40</td>\n",
       "      <td>what a frickin joke subscription isnt recognis...</td>\n",
       "    </tr>\n",
       "    <tr>\n",
       "      <th>996</th>\n",
       "      <td>996</td>\n",
       "      <td>564b8c9d-1ff6-4849-8817-c38f8e22a941</td>\n",
       "      <td>271634911259753744305</td>\n",
       "      <td>A Google user</td>\n",
       "      <td>In radio mode sometimes just shows a gray scre...</td>\n",
       "      <td>3</td>\n",
       "      <td>0</td>\n",
       "      <td>1.1.0.113</td>\n",
       "      <td>2014-05-29 03:41:45</td>\n",
       "      <td>in radio mode sometimes just shows a gray scre...</td>\n",
       "    </tr>\n",
       "    <tr>\n",
       "      <th>997</th>\n",
       "      <td>997</td>\n",
       "      <td>4f355cb6-40a8-483b-921b-afd1727e6464</td>\n",
       "      <td>507422578498859942392</td>\n",
       "      <td>A Google user</td>\n",
       "      <td>Plz add genre section in your music as well pl...</td>\n",
       "      <td>4</td>\n",
       "      <td>0</td>\n",
       "      <td>1.1.0.113</td>\n",
       "      <td>2014-05-29 03:43:43</td>\n",
       "      <td>plz add genre section in your music as well pl...</td>\n",
       "    </tr>\n",
       "    <tr>\n",
       "      <th>998</th>\n",
       "      <td>998</td>\n",
       "      <td>5f75446e-7831-4785-a79a-e7ad120aed6c</td>\n",
       "      <td>226983507757949968391</td>\n",
       "      <td>A Google user</td>\n",
       "      <td>I Loveeeee Ittt !!!!!!! ♥♥♥♡♡♡♡</td>\n",
       "      <td>5</td>\n",
       "      <td>0</td>\n",
       "      <td>1.1.0.113</td>\n",
       "      <td>2014-05-29 03:44:13</td>\n",
       "      <td>i loveeeee ittt</td>\n",
       "    </tr>\n",
       "    <tr>\n",
       "      <th>999</th>\n",
       "      <td>999</td>\n",
       "      <td>bc8f6b3d-f67e-41fd-8892-68ae79c68e85</td>\n",
       "      <td>939764432894393396207</td>\n",
       "      <td>A Google user</td>\n",
       "      <td>Love it all the music I need</td>\n",
       "      <td>5</td>\n",
       "      <td>0</td>\n",
       "      <td>NaN</td>\n",
       "      <td>2014-05-29 03:46:25</td>\n",
       "      <td>love it all the music i need</td>\n",
       "    </tr>\n",
       "  </tbody>\n",
       "</table>\n",
       "<p>1000 rows × 10 columns</p>\n",
       "</div>"
      ],
      "text/plain": [
       "     Unnamed: 0                             review_id       pseudo_author_id  \\\n",
       "0             0  14a011a8-7544-47b4-8480-c502af0ac26f  152618553977019693742   \n",
       "1             1  bfa8876b-470e-4640-83a7-77427f7f37e8  234382942865437071667   \n",
       "2             2  70e8252f-058a-47d9-b066-df9e1571c970  174473604608358796368   \n",
       "3             3  672a155a-e81e-4d28-bdeb-a74c031bc072  286593453219054880269   \n",
       "4             4  bbc1bf95-ed36-41a1-8b98-0f2e314caea5  167276875678680630145   \n",
       "..          ...                                   ...                    ...   \n",
       "995         995  12c0d80a-84ac-49d5-a143-bb6efcd1d139  996404509657845998069   \n",
       "996         996  564b8c9d-1ff6-4849-8817-c38f8e22a941  271634911259753744305   \n",
       "997         997  4f355cb6-40a8-483b-921b-afd1727e6464  507422578498859942392   \n",
       "998         998  5f75446e-7831-4785-a79a-e7ad120aed6c  226983507757949968391   \n",
       "999         999  bc8f6b3d-f67e-41fd-8892-68ae79c68e85  939764432894393396207   \n",
       "\n",
       "       author_name                                        review_text  \\\n",
       "0    A Google user                                   Use it every day   \n",
       "1    A Google user  I enjoy the awesome UI of this app, and it has...   \n",
       "2    A Google user                Love it! Especially the new design!   \n",
       "3    A Google user              Awesome UI, best music app out there!   \n",
       "4    A Google user  As a professional Android developer I'm glad t...   \n",
       "..             ...                                                ...   \n",
       "995  A Google user  what a frickin joke. subscription isnt recogni...   \n",
       "996  A Google user  In radio mode sometimes just shows a gray scre...   \n",
       "997  A Google user  Plz add genre section in your music as well pl...   \n",
       "998  A Google user                    I Loveeeee Ittt !!!!!!! ♥♥♥♡♡♡♡   \n",
       "999  A Google user                       Love it all the music I need   \n",
       "\n",
       "     review_rating  review_likes author_app_version     review_timestamp  \\\n",
       "0                5             1           1.1.0.91  2014-05-27 14:21:48   \n",
       "1                5             4           1.1.0.91  2014-05-27 14:36:02   \n",
       "2                5             2           1.1.0.91  2014-05-27 14:40:01   \n",
       "3                5             1           1.1.0.91  2014-05-27 15:17:20   \n",
       "4                5            10           1.1.0.91  2014-05-27 15:26:48   \n",
       "..             ...           ...                ...                  ...   \n",
       "995              1             0          1.1.0.113  2014-05-29 03:40:40   \n",
       "996              3             0          1.1.0.113  2014-05-29 03:41:45   \n",
       "997              4             0          1.1.0.113  2014-05-29 03:43:43   \n",
       "998              5             0          1.1.0.113  2014-05-29 03:44:13   \n",
       "999              5             0                NaN  2014-05-29 03:46:25   \n",
       "\n",
       "                                   cleaned_review_text  \n",
       "0                                     use it every day  \n",
       "1    i enjoy the awesome ui of this app and it has ...  \n",
       "2                    love it especially the new design  \n",
       "3                  awesome ui best music app out there  \n",
       "4    as a professional android developer im glad to...  \n",
       "..                                                 ...  \n",
       "995  what a frickin joke subscription isnt recognis...  \n",
       "996  in radio mode sometimes just shows a gray scre...  \n",
       "997  plz add genre section in your music as well pl...  \n",
       "998                                  i loveeeee ittt    \n",
       "999                       love it all the music i need  \n",
       "\n",
       "[1000 rows x 10 columns]"
      ]
     },
     "execution_count": 34,
     "metadata": {},
     "output_type": "execute_result"
    }
   ],
   "source": [
    "df = df[:1000]\n",
    "df"
   ]
  },
  {
   "cell_type": "code",
   "execution_count": 35,
   "id": "d14a37cb-b082-4615-870f-0a285ede9657",
   "metadata": {},
   "outputs": [],
   "source": [
    "all_reviews = \" \".join(df['cleaned_review_text'].dropna().tolist())"
   ]
  },
  {
   "cell_type": "code",
   "execution_count": 36,
   "id": "aa90680a-b3a5-4c02-8e6b-c73348094570",
   "metadata": {},
   "outputs": [],
   "source": [
    "tokenizer = GPT2TokenizerFast.from_pretrained(\"gpt2\")\n",
    "\n",
    "def count_tokens(text: str) -> int:\n",
    "    return len(tokenizer.encode(text))"
   ]
  },
  {
   "cell_type": "code",
   "execution_count": 37,
   "id": "cc95c3d8-26d3-4519-9450-c3ab375a6815",
   "metadata": {},
   "outputs": [],
   "source": [
    "text_splitter = RecursiveCharacterTextSplitter(\n",
    "    chunk_size = 512,\n",
    "    chunk_overlap = 24,\n",
    "    length_function = count_tokens,\n",
    ")"
   ]
  },
  {
   "cell_type": "code",
   "execution_count": 38,
   "id": "4e97fbec-f5fc-4ddf-ac09-e674478d88e6",
   "metadata": {},
   "outputs": [
    {
     "name": "stderr",
     "output_type": "stream",
     "text": [
      "/usr/local/lib/python3.8/dist-packages/huggingface_hub/file_download.py:1132: FutureWarning: `resume_download` is deprecated and will be removed in version 1.0.0. Downloads always resume when possible. If you want to force a new download, use `force_download=True`.\n",
      "  warnings.warn(\n"
     ]
    }
   ],
   "source": [
    "from sentence_transformers import SentenceTransformer\n",
    "\n",
    "embedding_model = SentenceTransformer('all-MiniLM-L6-v2', device=device)"
   ]
  },
  {
   "cell_type": "code",
   "execution_count": 62,
   "id": "d1e35277-17c4-457c-90f3-982f341ce6ea",
   "metadata": {},
   "outputs": [
    {
     "name": "stderr",
     "output_type": "stream",
     "text": [
      "100%|██████████████████████████████████████████████████████████████████████████████| 1000/1000 [00:02<00:00, 493.99it/s]\n"
     ]
    }
   ],
   "source": [
    "from tqdm import tqdm\n",
    "\n",
    "all_chunks = []\n",
    "\n",
    "for review in tqdm(df['cleaned_review_text']):\n",
    "    chunks = text_splitter.create_documents([review])\n",
    "    all_chunks.extend(chunks)"
   ]
  },
  {
   "cell_type": "code",
   "execution_count": 75,
   "id": "9894f027-d736-4507-aeea-9c6832e0d9dd",
   "metadata": {},
   "outputs": [],
   "source": [
    "all_chunks = []\n",
    "all_chunks.extend(text_splitter.create_documents([all_reviews]))"
   ]
  },
  {
   "cell_type": "code",
   "execution_count": 76,
   "id": "b21f8be1-cfac-4046-b27f-24281fb06720",
   "metadata": {},
   "outputs": [
    {
     "data": {
      "application/vnd.jupyter.widget-view+json": {
       "model_id": "59b84c22c6664c678d4125114d19b6e6",
       "version_major": 2,
       "version_minor": 0
      },
      "text/plain": [
       "Batches:   0%|          | 0/2 [00:00<?, ?it/s]"
      ]
     },
     "metadata": {},
     "output_type": "display_data"
    }
   ],
   "source": [
    "chunk_texts = [chunk.page_content for chunk in all_chunks]\n",
    "\n",
    "embeddings = embedding_model.encode(chunk_texts, show_progress_bar=True)"
   ]
  },
  {
   "cell_type": "code",
   "execution_count": 77,
   "id": "c6010826-9c3a-4552-8174-dbc47c0a76b2",
   "metadata": {},
   "outputs": [],
   "source": [
    "import faiss\n",
    "dimension = embeddings.shape[1]\n",
    "index = faiss.IndexFlatL2(dimension)\n",
    "index.add(embeddings)"
   ]
  },
  {
   "cell_type": "code",
   "execution_count": 78,
   "id": "6090d8d9-1ee3-48cc-9bf4-7c69bb3128c5",
   "metadata": {},
   "outputs": [],
   "source": [
    "import numpy as np"
   ]
  },
  {
   "cell_type": "code",
   "execution_count": 79,
   "id": "4666293b-ed9f-4082-bae8-e75da28a7d53",
   "metadata": {},
   "outputs": [],
   "source": [
    "# Save embeddings\n",
    "np.save('embeddings_langchain.npy', embeddings)\n",
    "\n",
    "# Save FAISS index\n",
    "faiss.write_index(index, 'faiss_index_langchain.idx')"
   ]
  },
  {
   "cell_type": "code",
   "execution_count": 80,
   "id": "4360bd5d-d541-4c2c-ad53-73625d4b770d",
   "metadata": {},
   "outputs": [],
   "source": [
    "def similarity_search(query, k=5):\n",
    "    query_embedding = embedding_model.encode([query])\n",
    "    distances, indices = index.search(query_embedding, k)\n",
    "    return [all_chunks[i] for i in indices[0]]\n",
    "\n",
    "def answer_query(query):\n",
    "    docs = similarity_search(query)\n",
    "    doc_texts = [doc.page_content for doc in docs]\n",
    "    query_embedding = embedding_model.encode(query)\n",
    "    doc_embeddings = embedding_model.encode(doc_texts)\n",
    "    hits = util.semantic_search(query_embedding, doc_embeddings, top_k=1)\n",
    "    best_doc_idx = hits[0][0]['corpus_id']\n",
    "    best_answer = doc_texts[best_doc_idx]\n",
    "    return best_answer"
   ]
  },
  {
   "cell_type": "code",
   "execution_count": 81,
   "id": "78b09949-467e-4e3e-a7b1-00c242c69616",
   "metadata": {},
   "outputs": [],
   "source": [
    "from sentence_transformers import SentenceTransformer, util"
   ]
  },
  {
   "cell_type": "code",
   "execution_count": 82,
   "id": "0834404d-20e5-4431-a473-14fe52dcfbdd",
   "metadata": {},
   "outputs": [
    {
     "name": "stdout",
     "output_type": "stream",
     "text": [
      "i hate that it best music app by far yeah awsome it works i love it been using it since since it came out i absolutely love listening to spotify as a usa solider its great when back at the barricks love this stuff es la mejor app de musica en stream great app love it  lt3 it is great love it i think its not so difficult to develop a widget that could be resized its really annoying spotify was hit by a security breach so they had to change the app do people even read even though i have to redownload 1226 songs its still a great monthly purchase have to download playlist again bullshit love it everyone on the internet is a baby best music service app ive ever paid for the new updated app will not let me sign in using my prior info or sign in by fb login have wasted the last 20mins trying to get it to wk im not wasting anymore time on it deleting app which i really like prior love it  i use spotify on all my devices i like that playlists sync across all platforms but you cannot remove tracks from playlists on mobile devices you also cant use spotify with zombies run and thats is tragic it sometime glitches if more than one person is using it only one person\n"
     ]
    }
   ],
   "source": [
    "query = \"What do people like about Spotify?\"\n",
    "answer = answer_query(query)\n",
    "print(answer)"
   ]
  },
  {
   "cell_type": "code",
   "execution_count": 83,
   "id": "c6d5770a-4889-4016-98f9-8e29a78cb386",
   "metadata": {},
   "outputs": [
    {
     "data": {
      "text/plain": [
       "[Document(page_content='i hate that it best music app by far yeah awsome it works i love it been using it since since it came out i absolutely love listening to spotify as a usa solider its great when back at the barricks love this stuff es la mejor app de musica en stream great app love it  lt3 it is great love it i think its not so difficult to develop a widget that could be resized its really annoying spotify was hit by a security breach so they had to change the app do people even read even though i have to redownload 1226 songs its still a great monthly purchase have to download playlist again bullshit love it everyone on the internet is a baby best music service app ive ever paid for the new updated app will not let me sign in using my prior info or sign in by fb login have wasted the last 20mins trying to get it to wk im not wasting anymore time on it deleting app which i really like prior love it  i use spotify on all my devices i like that playlists sync across all platforms but you cannot remove tracks from playlists on mobile devices you also cant use spotify with zombies run and thats is tragic it sometime glitches if more than one person is using it only one person', metadata={}),\n",
       " Document(page_content='use it every day i enjoy the awesome ui of this app and it has all the music one can ask for love it especially the new design awesome ui best music app out there as a professional android developer im glad to see the spotify team taking security seriously they made switching packages as painless as possible given the situation if i had to put a  amount on how much i would have spent without spotify id say i listen to 100 worth of music a month so at 10 the app is totally worth it connection breaks all the time in some areas good easy to search and discover new music and also fast enough to not give you a headache i cant complain all you need for a music fan blir bara bttre och bttre awesum after updating to latest version ive got to download all my offline playlists again excellent music app only music service i use keep the updates coming cant really fault does exactly as it says fun great lol  this is a great way to listen to ur favourate music i eould recomend this completly works really well i was impressed keep it up guys  i love the variety of music they have best eva nice job spotify rather then update existing app you put a new one out so all offline playlists', metadata={}),\n",
       " Document(page_content='perhaps needs to work with chromecast and bluetooth a bit better but overall great es el sida spotify rocks literally  figuratively love the spotify app wouldnt know what to do without it what more could you expect from a free app spotify is the shizzy does not have all the music im looking for i cant download my music and listen to it offline after the update please get it fix the only way to listen to music no problems at all the best music app there is hands down its cool i still gotta pay for it but hey its cool great app  i gave it 4 stars because it only lets you shuffle music on cell phone devices best music app ever not crazy about the menu but fantastic for finding tunes thanks great app handy on go spotify is a great service for consumers maybe not so much for the artist but still people should stop crying about how they changed the app they are just protecting there users i would like to know why they did have to scrap the other app only on android but i digress i think this is the best app in the hole wid world excellent i love this app if you love music as much as i do its worth the 10 a month for premium account you save soooooo much  nit having to buy music', metadata={}),\n",
       " Document(page_content='ich nur empfehlen in the new version you cannot close spotify via notification x good mobile music app love as a developer having to make all of your customers redownload a new application and all stored music is a terrible example of project management and development release a new patch and make all users with an old version update this is why the sdk allows for version checks this is a terrible oversight for an otherwise well done application love spotify love how it reinvented the way we find and listen to music also love the fact that i never have to download music from the web or buy it from overpriced itunes again however its not a huge deal but a headsup would have been nice to those whining about having to listen to music on shuffle mode what do you expect the artists have to make money somehow right so if you wanna listen to the music of your choice whenever you like on all of your little gadgets quit crying and cough up the 10monthits really not much youre never gonna be able to legally own your music without paying for it and lastly  please make acdc available to us  thanks pretty good free easy to use and has pretty much all of the songs i want  this app is so good simply the best despite lack', metadata={}),\n",
       " Document(page_content='music app ever i love this app the spotify app is pretty amazing always has been and still is the fact people are whining about needing to redownload their playlists is testament to their ignorance spotify had a security issue and rather than ignoring it like some companies would do they instantly did something about it of course the reason for doing it could easily be to protect the copyright holders of the music rather than directly the customer but the outcome is the same we are better off for it just for the sake of more people coming brilliant i think it is very good app it is pretty darn amazing but would be perfect if chromecast support is added soon great tunes great sound love my music n this hits the note  probably the best app ever made especially for music lover and who doesnt like music no one this app is definitely for everyone love this app  opened my world to lots more music awesomeness perfect music pay app absolubtley breath taking love it love this app dont get how having to uninstall and install a new one helps mitigate their security issue a simple update of the old would have been enough otherwise app is good but the forced random playlists for mobile but not tablet is stupid amazingly awesome its absolutely unacceptable that i have', metadata={})]"
      ]
     },
     "execution_count": 83,
     "metadata": {},
     "output_type": "execute_result"
    }
   ],
   "source": [
    "docs = similarity_search(query)\n",
    "docs"
   ]
  },
  {
   "cell_type": "code",
   "execution_count": null,
   "id": "e78f50eb-1dab-44bd-9537-db2651af6345",
   "metadata": {},
   "outputs": [],
   "source": []
  }
 ],
 "metadata": {
  "kernelspec": {
   "display_name": "Python 3 (ipykernel)",
   "language": "python",
   "name": "python3"
  },
  "language_info": {
   "codemirror_mode": {
    "name": "ipython",
    "version": 3
   },
   "file_extension": ".py",
   "mimetype": "text/x-python",
   "name": "python",
   "nbconvert_exporter": "python",
   "pygments_lexer": "ipython3",
   "version": "3.8.10"
  }
 },
 "nbformat": 4,
 "nbformat_minor": 5
}
